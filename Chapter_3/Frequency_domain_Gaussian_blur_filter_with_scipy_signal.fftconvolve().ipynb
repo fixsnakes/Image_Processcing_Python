{
 "cells": [
  {
   "cell_type": "code",
   "execution_count": 2,
   "metadata": {},
   "outputs": [
    {
     "name": "stdout",
     "output_type": "stream",
     "text": [
      "(224, 225)\n"
     ]
    },
    {
     "ename": "AttributeError",
     "evalue": "module 'scipy.signal' has no attribute 'gaussian'",
     "output_type": "error",
     "traceback": [
      "\u001b[1;31m---------------------------------------------------------------------------\u001b[0m",
      "\u001b[1;31mAttributeError\u001b[0m                            Traceback (most recent call last)",
      "Cell \u001b[1;32mIn[2], line 18\u001b[0m\n\u001b[0;32m     16\u001b[0m \u001b[38;5;28mprint\u001b[39m(im\u001b[38;5;241m.\u001b[39mshape)\n\u001b[0;32m     17\u001b[0m \u001b[38;5;66;03m# (224, 225)\u001b[39;00m\n\u001b[1;32m---> 18\u001b[0m gauss_kernel \u001b[38;5;241m=\u001b[39m np\u001b[38;5;241m.\u001b[39mouter(\u001b[43msignal\u001b[49m\u001b[38;5;241;43m.\u001b[39;49m\u001b[43mgaussian\u001b[49m(\u001b[38;5;241m11\u001b[39m, \u001b[38;5;241m3\u001b[39m), signal\u001b[38;5;241m.\u001b[39mgaussian(\u001b[38;5;241m11\u001b[39m, \u001b[38;5;241m3\u001b[39m)) \u001b[38;5;66;03m#\u001b[39;00m\n\u001b[0;32m     20\u001b[0m im_blurred \u001b[38;5;241m=\u001b[39m signal\u001b[38;5;241m.\u001b[39mfftconvolve(im, gauss_kernel, mode\u001b[38;5;241m=\u001b[39m\u001b[38;5;124m'\u001b[39m\u001b[38;5;124msame\u001b[39m\u001b[38;5;124m'\u001b[39m)\n\u001b[0;32m     21\u001b[0m fig, (ax_original, ax_kernel, ax_blurred) \u001b[38;5;241m=\u001b[39m pylab\u001b[38;5;241m.\u001b[39msubplots(\u001b[38;5;241m1\u001b[39m, \u001b[38;5;241m3\u001b[39m,figsize\u001b[38;5;241m=\u001b[39m(\u001b[38;5;241m20\u001b[39m,\u001b[38;5;241m8\u001b[39m))\n",
      "\u001b[1;31mAttributeError\u001b[0m: module 'scipy.signal' has no attribute 'gaussian'"
     ]
    }
   ],
   "source": [
    "from PIL import Image\n",
    "from skimage.io import imread, imshow, show\n",
    "import scipy.fftpack as fp\n",
    "from scipy import ndimage, misc, signal\n",
    "\n",
    "from skimage import data, img_as_float\n",
    "from skimage.color import rgb2gray\n",
    "from skimage.transform import rescale\n",
    "import matplotlib.pylab as pylab\n",
    "import numpy as np\n",
    "import numpy.fft\n",
    "import timeit\n",
    "\n",
    "\n",
    "im = np.mean(imread('../images/mandrill.jpg'), axis=2)\n",
    "print(im.shape)\n",
    "# (224, 225)\n",
    "gauss_kernel = np.outer(signal.gaussian(11, 3), signal.gaussian(11, 3)) #\n",
    "\n",
    "im_blurred = signal.fftconvolve(im, gauss_kernel, mode='same')\n",
    "fig, (ax_original, ax_kernel, ax_blurred) = pylab.subplots(1, 3,figsize=(20,8))\n",
    "ax_original.imshow(im, cmap='gray')\n",
    "ax_original.set_title('Original', size=20)\n",
    "ax_original.set_axis_off()\n",
    "ax_kernel.imshow(gauss_kernel)\n",
    "ax_kernel.set_title('Gaussian kernel', size=15)\n",
    "ax_kernel.set_axis_off()\n",
    "ax_blurred.imshow(im_blurred, cmap='gray')\n",
    "ax_blurred.set_title('Blurred', size=20)\n",
    "ax_blurred.set_axis_off()\n",
    "fig.show()\n"
   ]
  }
 ],
 "metadata": {
  "kernelspec": {
   "display_name": "Python 3",
   "language": "python",
   "name": "python3"
  },
  "language_info": {
   "codemirror_mode": {
    "name": "ipython",
    "version": 3
   },
   "file_extension": ".py",
   "mimetype": "text/x-python",
   "name": "python",
   "nbconvert_exporter": "python",
   "pygments_lexer": "ipython3",
   "version": "3.11.2"
  }
 },
 "nbformat": 4,
 "nbformat_minor": 2
}
