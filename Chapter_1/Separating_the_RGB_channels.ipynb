{
 "cells": [
  {
   "cell_type": "code",
   "execution_count": 5,
   "metadata": {},
   "outputs": [
    {
     "name": "stdout",
     "output_type": "stream",
     "text": [
      "(<PIL.Image.Image image mode=L size=315x310 at 0x21F676D74D0>, <PIL.Image.Image image mode=L size=315x310 at 0x21F66185890>, <PIL.Image.Image image mode=L size=315x310 at 0x21F6614EE50>, <PIL.Image.Image image mode=L size=315x310 at 0x21F6608F510>)\n"
     ]
    },
    {
     "ename": "ValueError",
     "evalue": "too many values to unpack (expected 3)",
     "output_type": "error",
     "traceback": [
      "\u001b[1;31m---------------------------------------------------------------------------\u001b[0m",
      "\u001b[1;31mValueError\u001b[0m                                Traceback (most recent call last)",
      "Cell \u001b[1;32mIn[5], line 12\u001b[0m\n\u001b[0;32m      8\u001b[0m im \u001b[38;5;241m=\u001b[39m Image\u001b[38;5;241m.\u001b[39mopen(\u001b[38;5;124m\"\u001b[39m\u001b[38;5;124m..\u001b[39m\u001b[38;5;130;01m\\\\\u001b[39;00m\u001b[38;5;124mimages\u001b[39m\u001b[38;5;130;01m\\\\\u001b[39;00m\u001b[38;5;124mbeans_g.png\u001b[39m\u001b[38;5;124m\"\u001b[39m)\n\u001b[0;32m     11\u001b[0m \u001b[38;5;28mprint\u001b[39m(im\u001b[38;5;241m.\u001b[39msplit())\n\u001b[1;32m---> 12\u001b[0m ch_r, ch_g, ch_b \u001b[38;5;241m=\u001b[39m im\u001b[38;5;241m.\u001b[39msplit() \u001b[38;5;66;03m# split the RGB image into 3 channels: R, G\u001b[39;00m\n\u001b[0;32m     14\u001b[0m \u001b[38;5;66;03m# we shall use matplotlib to display the channels\u001b[39;00m\n\u001b[0;32m     15\u001b[0m plt\u001b[38;5;241m.\u001b[39mfigure(figsize\u001b[38;5;241m=\u001b[39m(\u001b[38;5;241m18\u001b[39m,\u001b[38;5;241m6\u001b[39m))\n",
      "\u001b[1;31mValueError\u001b[0m: too many values to unpack (expected 3)"
     ]
    }
   ],
   "source": [
    "import numpy as np\n",
    "from PIL import Image, ImageFont, ImageDraw\n",
    "from PIL.ImageChops import add, subtract, multiply, difference, screen\n",
    "import PIL.ImageStat as stat\n",
    "\n",
    "import matplotlib.pylab as plt\n",
    "\n",
    "im = Image.open(\"..\\\\images\\\\cycle.jpg\")\n",
    "\n",
    "\n",
    "\n",
    "ch_r, ch_g, ch_b = im.split() # split the RGB image into 3 channels: R, G\n",
    "\n",
    "# we shall use matplotlib to display the channels\n",
    "plt.figure(figsize=(18,6))\n",
    "plt.subplot(1,3,1); plt.imshow(ch_r, cmap=plt.cm.Reds); plt.axis('off')\n",
    "plt.subplot(1,3,2); plt.imshow(ch_g, cmap=plt.cm.Greens); plt.axis('off')\n",
    "plt.subplot(1,3,3); plt.imshow(ch_b, cmap=plt.cm.Blues); plt.axis('off')\n",
    "plt.tight_layout()\n",
    "plt.show() # show the R, G, B channels"
   ]
  }
 ],
 "metadata": {
  "kernelspec": {
   "display_name": "Python 3",
   "language": "python",
   "name": "python3"
  },
  "language_info": {
   "codemirror_mode": {
    "name": "ipython",
    "version": 3
   },
   "file_extension": ".py",
   "mimetype": "text/x-python",
   "name": "python",
   "nbconvert_exporter": "python",
   "pygments_lexer": "ipython3",
   "version": "3.11.2"
  }
 },
 "nbformat": 4,
 "nbformat_minor": 2
}
